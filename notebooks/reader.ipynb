{
 "cells": [
  {
   "cell_type": "code",
   "execution_count": null,
   "id": "15d8cf05",
   "metadata": {},
   "outputs": [],
   "source": [
    "from pathlib import Path\n",
    "\n",
    "import httpx\n",
    "import base64\n",
    "import json\n",
    "from io import BytesIO\n",
    "from pdf2image import convert_from_path\n",
    "\n",
    "import instructor\n",
    "from openai import OpenAI\n",
    "from dotenv import dotenv_values\n",
    "from pydantic import BaseModel, Field\n",
    "from typing import Optional, Literal, List"
   ]
  },
  {
   "cell_type": "code",
   "execution_count": null,
   "id": "e1978c72",
   "metadata": {},
   "outputs": [],
   "source": [
    "MAIN_DIR_PATH = Path(\"../.\")\n",
    "\n",
    "DATA_PATH = MAIN_DIR_PATH / \"data\"\n",
    "RAW_DATA_PATH = DATA_PATH / \"raw\"\n",
    "PROCESSED_DATA_PATH = DATA_PATH / \"processed\"\n",
    "PROCESSED_DATA_PATH.mkdir(parents=True, exist_ok=True)"
   ]
  },
  {
   "cell_type": "code",
   "execution_count": null,
   "id": "d9dcbcc3",
   "metadata": {},
   "outputs": [],
   "source": [
    "env = dotenv_values(MAIN_DIR_PATH / \".env\")\n",
    "openai_client = instructor.from_openai(\n",
    "    OpenAI(api_key=env[\"OPENAI_API_KEY\"], timeout=httpx.Timeout(40.0))\n",
    ")"
   ]
  },
  {
   "cell_type": "code",
   "execution_count": null,
   "id": "ea26b26f",
   "metadata": {},
   "outputs": [],
   "source": [
    "# Marked: 1, 2, 6, 8, 10, 14, 15\n",
    "FILE_PATH = RAW_DATA_PATH / \"wzor-1.pdf\"\n",
    "\n",
    "# Marked: 8, 10\n",
    "# FILE_PATH = RAW_DATA_PATH / \"wzor-2.pdf\"\n",
    "\n",
    "# Marked: 8, 9, 10\n",
    "# FILE_PATH = RAW_DATA_PATH / \"wzor-3.pdf\""
   ]
  },
  {
   "cell_type": "markdown",
   "id": "8f94e3ba",
   "metadata": {},
   "source": [
    "## PDF to JPEG pages"
   ]
  },
  {
   "cell_type": "code",
   "execution_count": null,
   "id": "57d5f8fb",
   "metadata": {},
   "outputs": [],
   "source": [
    "DPI = 300\n",
    "OUTPUT_FORMAT = \"JPEG\"\n",
    "\n",
    "pages = convert_from_path(FILE_PATH, dpi=DPI)\n",
    "pages_base64 = []\n",
    "\n",
    "for page in pages:\n",
    "    buffer = BytesIO()\n",
    "    page.save(buffer, format=OUTPUT_FORMAT)\n",
    "    encoded_image = base64.b64encode(buffer.getvalue()).decode(\"utf-8\")\n",
    "    pages_base64.append(encoded_image)"
   ]
  },
  {
   "cell_type": "code",
   "execution_count": null,
   "id": "c9c1ba06",
   "metadata": {},
   "outputs": [],
   "source": [
    "# print(pages_base64[4])"
   ]
  },
  {
   "cell_type": "markdown",
   "id": "ffea12ca",
   "metadata": {},
   "source": [
    "## BaseModel"
   ]
  },
  {
   "cell_type": "code",
   "execution_count": null,
   "id": "ce2b69e3",
   "metadata": {},
   "outputs": [],
   "source": [
    "class ApplicationForm(BaseModel):\n",
    "    surname: Optional[str] = Field(\n",
    "        None, alias=\"Nazwisko\", description=\"Nazwisko uczestnika\"\n",
    "    )\n",
    "    name: Optional[str] = Field(None, alias=\"Imię\", description=\"Imię uczestnika\")\n",
    "    sex: Optional[Literal[\"kobieta\", \"mężczyzna\"]] = Field(\n",
    "        None, alias=\"Płeć\", description=\"Płeć zaznaczona na formularzu\"\n",
    "    )\n",
    "    birth_date: Optional[str] = Field(\n",
    "        None, alias=\"Data urodzenia\", description=\"Data urodzenia uczestnika\"\n",
    "    )\n",
    "    phone: Optional[str] = Field(\n",
    "        None, alias=\"Numer telefonu\", description=\"Numer telefonu kontaktowego\"\n",
    "    )\n",
    "    email: Optional[str] = Field(\n",
    "        None, alias=\"Adres e-mail\", description=\"Adres e-mail uczestnika\"\n",
    "    )\n",
    "    residence_or_workplace: Optional[str] = Field(\n",
    "        None,\n",
    "        alias=\"Podaj stałe miejsce zamieszkania (kod pocztowy, miejscowość)* Tj. min. 3 miesiące przed złożeniem fiszki zgłoszeniowej, we wskazanym miejscu. Przez stałe zamieszkanie należy rozumieć zamieszkanie w określonej miejscowości pod oznaczonym adresem z zamiarem stałego pobytu. O miejscu zamieszkania decydują występujące łącznie dwie przesłanki faktyczne: przebywanie w znaczeniu fizycznym w określonej miejscowości i zamiar stałego pobytu. Na stałość pobytu w danej miejscowości wskazuje skupienie w niej życiowej aktywności, związanej z pracą czy rodziną lub podaj miejsce pracy (kod pocztowy oraz miejscowość głównej siedziby lub oddziału firmy, w której jesteś zatrudniony)\",\n",
    "        description=\"Adres zamieszkania lub miejsce pracy\",\n",
    "    )\n",
    "    is_entrepreneur: Optional[Literal[\"tak\", \"nie\"]] = Field(\n",
    "        None,\n",
    "        alias=\"Czy jesteś przedsiębiorcą w rozumieniu art. 4 ust. 1-2 ustawy Prawo przedsiębiorców? *\",\n",
    "        description=\"Czy uczestnik prowadzi działalność gospodarczą lub jest wspólnikiem spółki cywilnej\",\n",
    "    )\n",
    "    career_counseling: Optional[Literal[\"tak\", \"nie\"]] = Field(\n",
    "        None,\n",
    "        alias=\"Czy deklarujesz udział w doradztwie zawodowym?\",\n",
    "        description=\"Deklaracja udziału w doradztwie zawodowym\",\n",
    "    )\n",
    "    green_competencies: Optional[Literal[\"tak\", \"nie\"]] = Field(\n",
    "        None,\n",
    "        alias=\"Czy deklarujesz udział w usłudze rozwojowej prowadzącej do nabycia zielonych kompetencji/kwalifikacji?\",\n",
    "        description=\"Deklaracja udziału w usłudze prowadzącej do zielonych kwalifikacji\",\n",
    "    )\n",
    "    accessibility_support: Optional[str] = Field(\n",
    "        None,\n",
    "        alias=\"Jeśli jesteś osobą z niepełnosprawnością, zaznacz właściwą opcję, z której chciałbyś korzystać w przypadku zakwalifikowania się do projektu:\",\n",
    "        description=\"Lista potrzebnych udogodnień dla osób z niepełnosprawnością\",\n",
    "    )\n",
    "    question_12_mining_related: Optional[Literal[\"tak\", \"nie\"]] = Field(\n",
    "        None,\n",
    "        alias=\"Czy pracujesz w górnictwie, branży około górniczej lub opuściłaś/łeś którąś z tych branż po 1 stycznia 2021 r.?\",\n",
    "        description=\"Status zatrudnienia w branży górniczej po 01.01.2021\",\n",
    "    )\n",
    "    question_13_disadvantaged_group: Optional[Literal[\"tak\", \"nie\"]] = Field(\n",
    "        None,\n",
    "        alias=\"Czy jesteś osobą spełniającą co najmniej jedno kryterium a-f, należącą do grupy osób znajdujących się w niekorzystnej sytuacji?\",\n",
    "        description=\"Przynależność do grupy w niekorzystnej sytuacji społecznej lub zawodowej\",\n",
    "    )\n",
    "    question_14_residence_area: Optional[Literal[\"tak\", \"nie\"]] = Field(\n",
    "        None,\n",
    "        alias=\"Czy stale zamieszkujesz1 w województwie śląskim na terenie wskazanym w Rozporządzaniu Rady Ministrów z dnia 16 września 2024 r. w sprawie wprowadzenia stanu klęski żywiołowej...\",\n",
    "        description=\"Zamieszkanie na terenie objętym stanem klęski żywiołowej\",\n",
    "    )\n",
    "    question_15_ris_scope: Optional[Literal[\"tak\", \"nie\"]] = Field(\n",
    "        None,\n",
    "        alias=\"Czy deklarujesz udział w usłudze rozwojowej, której zakres tematyczny wynika z Regionalnej Strategii Innowacji Województwa Śląskiego 2030...\",\n",
    "        description=\"Deklaracja udziału w usłudze zgodnej z RIS 2030\",\n",
    "    )\n",
    "    question_16_certification_path: Optional[Literal[\"tak\", \"nie\"]] = Field(\n",
    "        None,\n",
    "        alias=\"Czy deklarujesz udział w usłudze rozwojowej prowadzącej do nabycia kwalifikacji?\",\n",
    "        description=\"Deklaracja udziału w usłudze rozwojowej zakończonej certyfikacją\",\n",
    "    )\n",
    "    legal_declaration: Optional[bool] = Field(\n",
    "        None,\n",
    "        alias=\"Świadoma/y odpowiedzialności karnej za podanie fałszywych informacji oświadczam, że:\",\n",
    "        description=\"Potwierdzenie zgodności danych i akceptacji regulaminu\",\n",
    "    )\n",
    "    marketing_consent: Optional[Literal[\"TAK\", \"NIE\"]] = Field(\n",
    "        None,\n",
    "        alias=\"Wyrażam zgodę na przetwarzanie moich danych osobowych podanych w umowie/we wniosku przez Fundusz Górnośląski S.A. w celach marketingowych\",\n",
    "        description=\"Zgoda na przetwarzanie danych w celach marketingowych\",\n",
    "    )\n",
    "    marketing_channels: Optional[List[str]] = Field(\n",
    "        None,\n",
    "        alias=\"Zgoda marketingowa – formy kontaktu\",\n",
    "        description=\"Formy kontaktu marketingowego zaakceptowane przez uczestnika (e-mail, SMS, telefon)\",\n",
    "    )"
   ]
  },
  {
   "cell_type": "markdown",
   "id": "473b15e5",
   "metadata": {},
   "source": [
    "## OpenAI connection"
   ]
  },
  {
   "cell_type": "code",
   "execution_count": null,
   "id": "8e51bb5f",
   "metadata": {},
   "outputs": [],
   "source": [
    "results: List[ApplicationForm] = []\n",
    "\n",
    "for page in pages_base64:\n",
    "    response = openai_client.chat.completions.create(\n",
    "        model=\"gpt-4o\",\n",
    "        response_model=ApplicationForm,\n",
    "        messages=[\n",
    "            {\n",
    "                \"role\": \"user\",\n",
    "                \"content\": [\n",
    "                    {\n",
    "                        \"type\": \"text\",\n",
    "                        \"text\": (\n",
    "                            \"Wyodrębnij dane z formularza zgłoszeniowego do projektu \"\n",
    "                            \"zgodnie z poniższym modelem. Każde pole dopasuj do jego zawartości. \"\n",
    "                            \"Zwróć tylko dane obecne na tej stronie dokumentu PDF. \"\n",
    "                            \"Jeśli dane nie są obecne, pomiń pole (zostanie uzupełnione z innej strony).\"\n",
    "                        ),\n",
    "                    },\n",
    "                    {\n",
    "                        \"type\": \"image_url\",\n",
    "                        \"image_url\": {\"url\": f\"data:image/jpeg;base64,{page}\"},\n",
    "                    },\n",
    "                ],\n",
    "            }\n",
    "        ],\n",
    "        temperature=0.0,\n",
    "    )\n",
    "    results.append(response)"
   ]
  },
  {
   "cell_type": "code",
   "execution_count": null,
   "id": "d00cf1ae",
   "metadata": {},
   "outputs": [],
   "source": [
    "with open(PROCESSED_DATA_PATH/\"raw_results.json\", \"w\", encoding=\"utf-8\") as f:\n",
    "    json.dump([r.dict() for r in results], f, ensure_ascii=False, indent=2)"
   ]
  },
  {
   "cell_type": "markdown",
   "id": "836e2471",
   "metadata": {},
   "source": [
    "## Result"
   ]
  },
  {
   "cell_type": "code",
   "execution_count": null,
   "id": "e32fc2a2",
   "metadata": {},
   "outputs": [],
   "source": [
    "def merge_form_results(results_list):\n",
    "    merged = {}\n",
    "\n",
    "    # Convert ApplicationForm to dict\n",
    "    dict_results = []\n",
    "    for result in results_list:\n",
    "        if hasattr(result, \"dict\"):  # pydantic model\n",
    "            dict_results.append(result.dict())\n",
    "        elif hasattr(result, \"__dict__\"):  # class\n",
    "            dict_results.append(result.__dict__)\n",
    "        else:  # dict\n",
    "            dict_results.append(result)\n",
    "\n",
    "    # Init with None\n",
    "    for result in dict_results:\n",
    "        for key in result.keys():\n",
    "            if key not in merged:\n",
    "                merged[key] = None\n",
    "\n",
    "    # Fill value - take first unempty value\n",
    "    for key in merged.keys():\n",
    "        for result in dict_results:\n",
    "            value = result.get(key)\n",
    "            if value is not None and value != \"\" and value != []:\n",
    "                merged[key] = value\n",
    "                break\n",
    "\n",
    "    return merged\n",
    "\n",
    "\n",
    "def process_and_save_results(results, data_path):\n",
    "    merged_result = merge_form_results(results)\n",
    "\n",
    "    with open(data_path / \"final_result.json\", \"w\", encoding=\"utf-8\") as f:\n",
    "        json.dump(merged_result, f, ensure_ascii=False, indent=2)\n",
    "\n",
    "    return merged_result"
   ]
  },
  {
   "cell_type": "code",
   "execution_count": null,
   "id": "662cdd13",
   "metadata": {},
   "outputs": [],
   "source": [
    "merged = process_and_save_results(results, PROCESSED_DATA_PATH)"
   ]
  }
 ],
 "metadata": {
  "kernelspec": {
   "display_name": "inspector-files",
   "language": "python",
   "name": "python3"
  },
  "language_info": {
   "codemirror_mode": {
    "name": "ipython",
    "version": 3
   },
   "file_extension": ".py",
   "mimetype": "text/x-python",
   "name": "python",
   "nbconvert_exporter": "python",
   "pygments_lexer": "ipython3",
   "version": "3.11.13"
  }
 },
 "nbformat": 4,
 "nbformat_minor": 5
}
